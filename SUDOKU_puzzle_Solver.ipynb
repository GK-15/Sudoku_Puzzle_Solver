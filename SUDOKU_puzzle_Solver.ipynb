{
  "nbformat": 4,
  "nbformat_minor": 0,
  "metadata": {
    "kernelspec": {
      "name": "python3",
      "display_name": "Python 3"
    },
    "colab": {
      "name": "SUDOKU_puzzle_Solver.ipynb",
      "provenance": [],
      "machine_shape": "hm"
    },
    "language_info": {
      "name": "python"
    },
    "accelerator": "GPU"
  },
  "cells": [
    {
      "cell_type": "markdown",
      "metadata": {
        "id": "_IuRgZcVQJm9"
      },
      "source": [
        "#**SUDOKU Puzzle Solver**"
      ]
    },
    {
      "cell_type": "code",
      "metadata": {
        "id": "t4d1QHzxEsoh"
      },
      "source": [
        "def cross(a, b):\n",
        "    return [s+t for s in a for t in b]\n",
        "\n",
        "#create grid for the puzzle\n",
        "rows = 'ABCDEFGHI'\n",
        "cols = '123456789'\n",
        "boxes = cross(rows, cols)\n",
        "row_units = [cross(r, cols) for r in rows]\n",
        "column_units = [cross(rows, c) for c in cols]\n",
        "square_units = [cross(rs, cs) for rs in ('ABC','DEF','GHI') for cs in ('123','456','789')]\n",
        "unitlist = row_units + column_units + square_units\n",
        "units = dict((s, [u for u in unitlist if s in u]) for s in boxes)\n",
        "#Create peers dictionary\n",
        "peers = dict((s, set(sum(units[s],[]))-set([s])) for s in boxes)"
      ],
      "execution_count": null,
      "outputs": []
    },
    {
      "cell_type": "code",
      "metadata": {
        "id": "CMjt0vVLNpkO"
      },
      "source": [
        "#code for displaying grid\n",
        "def display(values):\n",
        "    width = 1 + max(len(values[s]) for s in boxes)\n",
        "    line = '+'.join(['-'*(width*3)]*3)\n",
        "    for r in rows:\n",
        "        print(''.join(values[r+c].center(width)+('|' if c in '36' else '') for c in cols))\n",
        "        if r in 'CF': print(line)      \n",
        "    return"
      ],
      "execution_count": null,
      "outputs": []
    },
    {
      "cell_type": "code",
      "metadata": {
        "colab": {
          "base_uri": "https://localhost:8080/"
        },
        "id": "roh2ZtWDEsoi",
        "outputId": "68ad4821-8e6d-4757-bef9-c8de3e7d2dec"
      },
      "source": [
        "#Initialise grid inputs\n",
        "def Grid_Inputs(sudoku_output):\n",
        "    assert len(sudoku_output) == 81\n",
        "    return dict(zip(boxes, sudoku_output))\n",
        "#displaying the grid with inputs of the puzzle\n",
        "print(\"SUDOKU Puzzle - Unsolved\")\n",
        "print(\"--------------------\")\n",
        "sudoku_output = Grid_Inputs('51...4.7...42...3....6....93.........5..2.7..9..37.4....174.3.....8...57.....6...')\n",
        "display(sudoku_output)\n",
        "print(\"--------------------\")"
      ],
      "execution_count": null,
      "outputs": [
        {
          "output_type": "stream",
          "text": [
            "SUDOKU Puzzle - Unsolved\n",
            "--------------------\n",
            "5 1 . |. . 4 |. 7 . \n",
            ". . 4 |2 . . |. 3 . \n",
            ". . . |6 . . |. . 9 \n",
            "------+------+------\n",
            "3 . . |. . . |. . . \n",
            ". 5 . |. 2 . |7 . . \n",
            "9 . . |3 7 . |4 . . \n",
            "------+------+------\n",
            ". . 1 |7 4 . |3 . . \n",
            ". . . |8 . . |. 5 7 \n",
            ". . . |. . 6 |. . . \n",
            "--------------------\n"
          ],
          "name": "stdout"
        }
      ]
    },
    {
      "cell_type": "code",
      "metadata": {
        "id": "jzF236APNGCh"
      },
      "source": [
        "#For Elimination and selection\n",
        "def Grid_Inputs(sudoku_output):\n",
        "    values = []\n",
        "    all_digits = '123456789'\n",
        "    for c in sudoku_output:\n",
        "        if c == '.':\n",
        "            values.append(all_digits)\n",
        "        elif c in all_digits:\n",
        "            values.append(c)\n",
        "    assert len(values) == 81\n",
        "    return dict(zip(boxes, values))\n",
        "sudoku_output = Grid_Inputs('51...4.7...42...3....6....93.........5..2.7..9..37.4....174.3.....8...57.....6...')"
      ],
      "execution_count": null,
      "outputs": []
    },
    {
      "cell_type": "code",
      "metadata": {
        "colab": {
          "base_uri": "https://localhost:8080/"
        },
        "id": "tguUvGOpEsoi",
        "outputId": "8cd39023-a3fd-4619-d872-c5bff69cdfe2"
      },
      "source": [
        "def Elimination_process(values):\n",
        "    solved_values = [box for box in values.keys() if len(values[box]) == 1]\n",
        "    for box in solved_values:\n",
        "        digit = values[box]\n",
        "        for peer in peers[box]:\n",
        "            values[peer] = values[peer].replace(digit,'')       \n",
        "    return values\n",
        "#displaying the grid after performing elimination in the puzzle\n",
        "print(\"Puzzle after Elimination process\")\n",
        "print(\"-----------------------------------------------------------------\")\n",
        "sudoku_output = Elimination_process(sudoku_output)\n",
        "display(sudoku_output)\n",
        "print(\"-----------------------------------------------------------------\")"
      ],
      "execution_count": null,
      "outputs": [
        {
          "output_type": "stream",
          "text": [
            "Puzzle after Elimination process\n",
            "-----------------------------------------------------------------\n",
            "   5      1    23689 |   9     389     4   |  268     7     268  \n",
            "  678    6789    4   |   2     1589  15789 |  1568    3     1568 \n",
            "  278    2378   2378 |   6     1358  13578 |  1258   1248    9   \n",
            "---------------------+---------------------+---------------------\n",
            "   3    24678   2678 |  1459  15689   1589 | 125689 12689  12568 \n",
            "  1468    5      68  |  149     2     189  |   7     1689   1368 \n",
            "   9     268    268  |   3      7     158  |   4     1268  12568 \n",
            "---------------------+---------------------+---------------------\n",
            "  268    2689    1   |   7      4     259  |   3     2689   268  \n",
            "  246   23469   2369 |   8     139    1239 |  1269    5      7   \n",
            "  2478  234789 235789|  159    1359    6   |  1289  12489   1248 \n",
            "-----------------------------------------------------------------\n"
          ],
          "name": "stdout"
        }
      ]
    },
    {
      "cell_type": "code",
      "metadata": {
        "colab": {
          "base_uri": "https://localhost:8080/"
        },
        "id": "dLX_x8aYEsoj",
        "outputId": "c984f074-7b40-47c5-c2ad-894f8092151b"
      },
      "source": [
        "def Selection_process(values):\n",
        "    for unit in unitlist:\n",
        "        for digit in '123456789':\n",
        "            dplaces = [box for box in unit if digit in values[box]]\n",
        "            if len(dplaces) == 1:\n",
        "                values[dplaces[0]] = digit        \n",
        "    return values\n",
        "#displaying the grid after performing selection in the puzzle\n",
        "print(\"Puzzle after choose process\")\n",
        "print(\"-----------------------------------------------------------------\")\n",
        "sudoku_output = Selection_process(sudoku_output)\n",
        "display(sudoku_output)\n",
        "print(\"-----------------------------------------------------------------\")"
      ],
      "execution_count": null,
      "outputs": [
        {
          "output_type": "stream",
          "text": [
            "Puzzle after choose process\n",
            "-----------------------------------------------------------------\n",
            "   5      1    23689 |   9     389     4   |  268     7     268  \n",
            "  678    6789    4   |   2     1589    7   |  1568    3     1568 \n",
            "  278    2378   2378 |   6     1358    3   |  1258    4      9   \n",
            "---------------------+---------------------+---------------------\n",
            "   3      4      7   |  1459    6     1589 | 125689 12689  12568 \n",
            "   1      5      68  |  149     2     189  |   7     1689    3   \n",
            "   9     268    268  |   3      7     158  |   4     1268  12568 \n",
            "---------------------+---------------------+---------------------\n",
            "  268    2689    1   |   7      4      5   |   3     2689   268  \n",
            "  246   23469   2369 |   8     139     2   |  1269    5      7   \n",
            "  2478  234789   5   |  159    1359    6   |  1289  12489    4   \n",
            "-----------------------------------------------------------------\n"
          ],
          "name": "stdout"
        }
      ]
    },
    {
      "cell_type": "code",
      "metadata": {
        "colab": {
          "base_uri": "https://localhost:8080/"
        },
        "id": "IMudugnwEsoj",
        "outputId": "8eb043e5-3ce0-4f83-d403-fe1a3511571a"
      },
      "source": [
        "def Final_sudoku_puzzle_output(values):\n",
        "    stalled = False\n",
        "    while not stalled:\n",
        "        puzzle_solved = len([box for box in values.keys() if len(values[box]) == 1])\n",
        "        values = Elimination_process(values)\n",
        "        values = Selection_process(values)\n",
        "        solved_values_after = len([box for box in values.keys() if len(values[box]) == 1])\n",
        "        stalled = puzzle_solved == solved_values_after\n",
        "        if len([box for box in values.keys() if len(values[box]) == 0]):\n",
        "            return False \n",
        "    return values\n",
        "#displaying the final output of the solved SUDOKU Puzzle\n",
        "print(\"Final Solved SUDOKU Puzzle\")\n",
        "print(\"--------------------\")\n",
        "sudoku_output = Final_sudoku_puzzle_output(sudoku_output)\n",
        "display(sudoku_output)\n",
        "print(\"--------------------\")"
      ],
      "execution_count": null,
      "outputs": [
        {
          "output_type": "stream",
          "text": [
            "Final Solved SUDOKU Puzzle\n",
            "--------------------\n",
            "5 1 3 |9 8 4 |6 7 2 \n",
            "6 9 4 |2 5 7 |8 3 1 \n",
            "8 7 2 |6 1 3 |5 4 9 \n",
            "------+------+------\n",
            "3 4 7 |5 6 1 |9 2 8 \n",
            "1 5 8 |4 2 9 |7 6 3 \n",
            "9 2 6 |3 7 8 |4 1 5 \n",
            "------+------+------\n",
            "2 8 1 |7 4 5 |3 9 6 \n",
            "4 6 9 |8 3 2 |1 5 7 \n",
            "7 3 5 |1 9 6 |2 8 4 \n",
            "--------------------\n"
          ],
          "name": "stdout"
        }
      ]
    }
  ]
}